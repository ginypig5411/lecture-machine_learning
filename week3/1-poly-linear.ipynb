{
 "cells": [
  {
   "cell_type": "code",
   "execution_count": 1,
   "metadata": {
    "collapsed": false
   },
   "outputs": [],
   "source": [
    "%matplotlib inline\n",
    "\n",
    "import numpy as np\n",
    "from numpy.polynomial.polynomial import polyval\n",
    "import matplotlib.pyplot as plt\n",
    "import tensorflow as tf\n",
    "\n",
    "def gen_data(start, stop, num_data, plot=True):\n",
    "    x = np.linspace(start, stop, num=num_data)\n",
    "    coeff = np.random.uniform(low=-1.0, high=1.0, size=6)\n",
    "    noise = np.random.normal(loc=0.0, scale=1.0, size=num_data)\n",
    "    \n",
    "    true_y = polyval(x, coeff)\n",
    "    noise_y = true_y + 0.1 * noise\n",
    "    \n",
    "    if plot:\n",
    "        plt.plot(x, true_y, 'r--')\n",
    "        plt.plot(x, noise_y, 'o')\n",
    "        plt.show()\n",
    "    \n",
    "    x = np.reshape(x, [num_data, 1])\n",
    "    noise_y = np.reshape(noise_y, [num_data, 1])\n",
    "    data = np.concatenate([x, noise_y], axis=1)\n",
    "    \n",
    "    return data"
   ]
  },
  {
   "cell_type": "code",
   "execution_count": 2,
   "metadata": {
    "collapsed": false
   },
   "outputs": [
    {
     "data": {
      "image/png": "[encoded data removed]",
      "text/plain": [
       "<matplotlib.figure.Figure at 0x114acaf50>"
      ]
     },
     "metadata": {},
     "output_type": "display_data"
    }
   ],
   "source": [
    "data = gen_data(-1, 1, 100)\n",
    "np.random.shuffle(data)\n",
    "\n",
    "train = data[:50, :]\n",
    "test = data[50:, :]\n",
    "\n",
    "train_x, train_y = np.split(train, 2, axis=1)\n",
    "test_x, test_y = np.split(test, 2, axis=1)"
   ]
  },
  {
   "cell_type": "code",
   "execution_count": 3,
   "metadata": {
    "collapsed": true
   },
   "outputs": [],
   "source": [
    "x = tf.placeholder(tf.float32, [None, 1])\n",
    "y = tf.placeholder(tf.float32, [None, 1])\n",
    "\n",
    "x_0 = tf.ones_like(x)\n",
    "x_1 = x\n",
    "x_2 = tf.pow(x, 2.)\n",
    "x_3 = tf.pow(x, 3.)\n",
    "x_4 = tf.pow(x, 4.)\n",
    "x_5 = tf.pow(x, 5.)\n",
    "x_6 = tf.pow(x, 6.)\n",
    "x_7 = tf.pow(x, 7.)\n",
    "x_8 = tf.pow(x, 8.)\n",
    "x_9 = tf.pow(x, 9.)\n",
    "x_10 = tf.pow(x, 10.)\n"
   ]
  },
  {
   "cell_type": "code",
   "execution_count": 4,
   "metadata": {
    "collapsed": false
   },
   "outputs": [],
   "source": [
    "capacity = 10\n",
    "\n",
    "poly_x = tf.concat([x_0, x_1, x_2, x_3, x_4, x_5, x_6, x_7, x_8, x_9, x_10], 1)\n",
    "poly_init = tf.random_uniform([capacity+1,1], minval=-1.0, maxval=1.0, dtype=tf.float32)\n",
    "poly_w = tf.Variable(poly_init, dtype=tf.float32, name='w')\n",
    "poly_model = tf.matmul(poly_x, poly_w)\n",
    "poly_MSE = tf.reduce_mean(tf.pow(poly_model - y, 2.0))"
   ]
  },
  {
   "cell_type": "code",
   "execution_count": 5,
   "metadata": {
    "collapsed": false
   },
   "outputs": [],
   "source": [
    "optimizer = tf.train.GradientDescentOptimizer(1e-3).minimize(poly_MSE)"
   ]
  },
  {
   "cell_type": "code",
   "execution_count": 6,
   "metadata": {
    "collapsed": true
   },
   "outputs": [],
   "source": [
    "# create TF session\n",
    "sess = tf.Session()\n",
    "\n",
    "# TF variable have to initialize before optimization\n",
    "init = tf.global_variables_initializer()\n",
    "sess.run(init)"
   ]
  },
  {
   "cell_type": "code",
   "execution_count": 7,
   "metadata": {
    "collapsed": false
   },
   "outputs": [
    {
     "name": "stdout",
     "output_type": "stream",
     "text": [
      "step: 0,  MSE: 1.275986\n",
      "step: 100,  MSE: 0.988514\n",
      "step: 200,  MSE: 0.778476\n",
      "step: 300,  MSE: 0.622259\n",
      "step: 400,  MSE: 0.504132\n",
      "step: 500,  MSE: 0.413457\n",
      "step: 600,  MSE: 0.342928\n",
      "step: 700,  MSE: 0.287437\n",
      "step: 800,  MSE: 0.243348\n",
      "step: 900,  MSE: 0.208025\n",
      "\n",
      "test error,  MSE: 0.130333\n"
     ]
    }
   ],
   "source": [
    "max_step = 1000\n",
    "for i in range(max_step):\n",
    "    sess.run(optimizer, {x:train_x, y:train_y})\n",
    "    \n",
    "    now_MSE = sess.run(poly_MSE, {x:train_x, y:train_y})\n",
    "    \n",
    "    if i%100 == 0:\n",
    "        print('step: %d,  MSE: %f' % (i, now_MSE))\n",
    "        \n",
    "print('\\ntest error,  MSE: %f' % (sess.run(poly_MSE, {x:test_x, y:test_y})))"
   ]
  }
 ],
 "metadata": {
  "kernelspec": {
   "display_name": "Python 2",
   "language": "python",
   "name": "python2"
  },
  "language_info": {
   "codemirror_mode": {
    "name": "ipython",
    "version": 2
   },
   "file_extension": ".py",
   "mimetype": "text/x-python",
   "name": "python",
   "nbconvert_exporter": "python",
   "pygments_lexer": "ipython2",
   "version": "2.7.12"
  }
 },
 "nbformat": 4,
 "nbformat_minor": 1
}
